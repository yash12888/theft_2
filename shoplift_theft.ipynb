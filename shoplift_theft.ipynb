{
 "cells": [
  {
   "cell_type": "code",
   "execution_count": 2,
   "id": "c8d68c63-edfa-4604-9838-c6c8fbc1843f",
   "metadata": {},
   "outputs": [],
   "source": [
    "import numpy as np\n",
    "import pandas as pd\n",
    "import matplotlib.pyplot as plt\n",
    "import seaborn as sns\n",
    "import warnings\n",
    "warnings.filterwarnings('ignore')"
   ]
  },
  {
   "cell_type": "code",
   "execution_count": 3,
   "id": "09948991-34ba-40f6-a0b9-ad9d916fb71c",
   "metadata": {},
   "outputs": [
    {
     "name": "stdout",
     "output_type": "stream",
     "text": [
      "TensorFlow version: 2.15.0\n",
      "TensorFlow is installed.\n"
     ]
    }
   ],
   "source": [
    "import tensorflow as tf\n",
    "\n",
    "try:\n",
    "    tf_version = tf.__version__\n",
    "    print(\"TensorFlow version:\", tf_version)\n",
    "    print(\"TensorFlow is installed.\")\n",
    "except ImportError:\n",
    "    print(\"TensorFlow is not installed.\")"
   ]
  },
  {
   "cell_type": "code",
   "execution_count": 6,
   "id": "7e46300c-8f43-43ad-bc25-350d911be504",
   "metadata": {},
   "outputs": [],
   "source": [
    "import os\n",
    "import cv2\n",
    "import numpy as np\n",
    "from tensorflow.keras.applications import ResNet50\n",
    "from tensorflow.keras.applications.resnet50 import preprocess_input\n",
    "from tensorflow.keras.models import Sequential\n",
    "from tensorflow.keras.layers import GlobalAveragePooling2D, Dense\n",
    "from tensorflow.keras.optimizers import Adam\n",
    "from sklearn.model_selection import train_test_split\n",
    "import os\n",
    "import numpy as np\n",
    "import tensorflow as tf\n",
    "import cv2\n",
    "from sklearn.preprocessing import OneHotEncoder\n",
    "import csv\n",
    "import os\n",
    "from tensorflow.keras.models import Sequential\n",
    "from tensorflow.keras.layers import Conv2D, MaxPooling2D, Flatten, Dense, LSTM, TimeDistributed, GlobalAveragePooling2D\n",
    "from tensorflow.keras.applications import ResNet50\n",
    "from tensorflow.keras.optimizers import Adam\n",
    "from sklearn.model_selection import train_test_split\n",
    "import datetime  # Added for TensorBoard log directory"
   ]
  },
  {
   "cell_type": "code",
   "execution_count": 37,
   "id": "193acdf0-85e8-4bfd-bc98-672dbcfc804d",
   "metadata": {},
   "outputs": [
    {
     "name": "stdout",
     "output_type": "stream",
     "text": [
      "C:/yash/Projects/cappstone/Cappstone-theft/New folder/Shoplifting.csv\n",
      "['C:/yash/Projects/cappstone/Cappstone-theft/shop/Shoplifting/Shoplifting001_x264.mp4/Shoplifting001_x264_1.mp4', 'C:/yash/Projects/cappstone/Cappstone-theft/shop/Shoplifting/Shoplifting001_x264.mp4/Shoplifting001_x264_2.mp4', 'C:/yash/Projects/cappstone/Cappstone-theft/shop/Shoplifting/Shoplifting001_x264.mp4/Shoplifting001_x264_3.mp4', 'C:/yash/Projects/cappstone/Cappstone-theft/shop/Shoplifting/Shoplifting001_x264.mp4/Shoplifting001_x264_4.mp4', 'C:/yash/Projects/cappstone/Cappstone-theft/shop/Shoplifting/Shoplifting001_x264.mp4/Shoplifting001_x264_5.mp4', 'C:/yash/Projects/cappstone/Cappstone-theft/shop/Shoplifting/Shoplifting001_x264.mp4/Shoplifting001_x264_6.mp4', 'C:/yash/Projects/cappstone/Cappstone-theft/shop/Shoplifting/Shoplifting001_x264.mp4/Shoplifting001_x264_7.mp4', 'C:/yash/Projects/cappstone/Cappstone-theft/shop/Shoplifting/Shoplifting001_x264.mp4/Shoplifting001_x264_8.mp4', 'C:/yash/Projects/cappstone/Cappstone-theft/shop/Shoplifting/Shoplifting001_x264.mp4/Shoplifting001_x264_9.mp4', 'C:/yash/Projects/cappstone/Cappstone-theft/shop/Shoplifting/Shoplifting001_x264.mp4/Shoplifting001_x264_10.mp4', 'C:/yash/Projects/cappstone/Cappstone-theft/shop/Shoplifting/Shoplifting001_x264.mp4/Shoplifting001_x264_11.mp4', 'C:/yash/Projects/cappstone/Cappstone-theft/shop/Shoplifting/Shoplifting001_x264.mp4/Shoplifting001_x264_12.mp4', 'C:/yash/Projects/cappstone/Cappstone-theft/shop/Shoplifting/Shoplifting001_x264.mp4/Shoplifting001_x264_13.mp4', 'C:/yash/Projects/cappstone/Cappstone-theft/shop/Shoplifting/Shoplifting001_x264.mp4/Shoplifting001_x264_14.mp4', 'C:/yash/Projects/cappstone/Cappstone-theft/shop/Shoplifting/Shoplifting001_x264.mp4/Shoplifting001_x264_15.mp4', 'C:/yash/Projects/cappstone/Cappstone-theft/shop/Shoplifting/Shoplifting001_x264.mp4/Shoplifting001_x264_16.mp4', 'C:/yash/Projects/cappstone/Cappstone-theft/shop/Shoplifting/Shoplifting001_x264.mp4/Shoplifting001_x264_17.mp4', 'C:/yash/Projects/cappstone/Cappstone-theft/shop/Shoplifting/Shoplifting001_x264.mp4/Shoplifting001_x264_18.mp4', 'C:/yash/Projects/cappstone/Cappstone-theft/shop/Shoplifting/Shoplifting001_x264.mp4/Shoplifting001_x264_19.mp4', 'C:/yash/Projects/cappstone/Cappstone-theft/shop/Shoplifting/Shoplifting001_x264.mp4/Shoplifting001_x264_20.mp4', 'C:/yash/Projects/cappstone/Cappstone-theft/shop/Shoplifting/Shoplifting001_x264.mp4/Shoplifting001_x264_21.mp4', 'C:/yash/Projects/cappstone/Cappstone-theft/shop/Shoplifting/Shoplifting001_x264.mp4/Shoplifting001_x264_22.mp4', 'C:/yash/Projects/cappstone/Cappstone-theft/shop/Shoplifting/Shoplifting001_x264.mp4/Shoplifting001_x264_23.mp4', 'C:/yash/Projects/cappstone/Cappstone-theft/shop/Shoplifting/Shoplifting001_x264.mp4/Shoplifting001_x264_24.mp4', 'C:/yash/Projects/cappstone/Cappstone-theft/shop/Shoplifting/Shoplifting001_x264.mp4/Shoplifting001_x264_25.mp4', 'C:/yash/Projects/cappstone/Cappstone-theft/shop/Shoplifting/Shoplifting001_x264.mp4/Shoplifting001_x264_26.mp4', 'C:/yash/Projects/cappstone/Cappstone-theft/shop/Shoplifting/Shoplifting001_x264.mp4/Shoplifting001_x264_27.mp4', 'C:/yash/Projects/cappstone/Cappstone-theft/shop/Shoplifting/Shoplifting001_x264.mp4/Shoplifting001_x264_28.mp4', 'C:/yash/Projects/cappstone/Cappstone-theft/shop/Shoplifting/Shoplifting001_x264.mp4/Shoplifting001_x264_29.mp4', 'C:/yash/Projects/cappstone/Cappstone-theft/shop/Shoplifting/Shoplifting001_x264.mp4/Shoplifting001_x264_30.mp4', 'C:/yash/Projects/cappstone/Cappstone-theft/shop/Shoplifting/Shoplifting001_x264.mp4/Shoplifting001_x264_31.mp4', 'C:/yash/Projects/cappstone/Cappstone-theft/shop/Shoplifting/Shoplifting005_x264.mp4/Shoplifting005_x264_0.mp4', 'C:/yash/Projects/cappstone/Cappstone-theft/shop/Shoplifting/Shoplifting005_x264.mp4/Shoplifting005_x264_1.mp4', 'C:/yash/Projects/cappstone/Cappstone-theft/shop/Shoplifting/Shoplifting005_x264.mp4/Shoplifting005_x264_2.mp4', 'C:/yash/Projects/cappstone/Cappstone-theft/shop/Shoplifting/Shoplifting005_x264.mp4/Shoplifting005_x264_3.mp4', 'C:/yash/Projects/cappstone/Cappstone-theft/shop/Shoplifting/Shoplifting005_x264.mp4/Shoplifting005_x264_4.mp4', 'C:/yash/Projects/cappstone/Cappstone-theft/shop/Shoplifting/Shoplifting005_x264.mp4/Shoplifting005_x264_5.mp4', 'C:/yash/Projects/cappstone/Cappstone-theft/shop/Shoplifting/Shoplifting005_x264.mp4/Shoplifting005_x264_6.mp4', 'C:/yash/Projects/cappstone/Cappstone-theft/shop/Shoplifting/Shoplifting005_x264.mp4/Shoplifting005_x264_7.mp4', 'C:/yash/Projects/cappstone/Cappstone-theft/shop/Shoplifting/Shoplifting005_x264.mp4/Shoplifting005_x264_8.mp4', 'C:/yash/Projects/cappstone/Cappstone-theft/shop/Shoplifting/Shoplifting005_x264.mp4/Shoplifting005_x264_9.mp4', 'C:/yash/Projects/cappstone/Cappstone-theft/shop/Shoplifting/Shoplifting005_x264.mp4/Shoplifting005_x264_10.mp4', 'C:/yash/Projects/cappstone/Cappstone-theft/shop/Shoplifting/Shoplifting005_x264.mp4/Shoplifting005_x264_11.mp4', 'C:/yash/Projects/cappstone/Cappstone-theft/shop/Shoplifting/Shoplifting005_x264.mp4/Shoplifting005_x264_12.mp4', 'C:/yash/Projects/cappstone/Cappstone-theft/shop/Shoplifting/Shoplifting005_x264.mp4/Shoplifting005_x264_13.mp4', 'C:/yash/Projects/cappstone/Cappstone-theft/shop/Shoplifting/Shoplifting005_x264.mp4/Shoplifting005_x264_14.mp4', 'C:/yash/Projects/cappstone/Cappstone-theft/shop/Shoplifting/Shoplifting005_x264.mp4/Shoplifting005_x264_15.mp4', 'C:/yash/Projects/cappstone/Cappstone-theft/shop/Shoplifting/Shoplifting005_x264.mp4/Shoplifting005_x264_16.mp4', 'C:/yash/Projects/cappstone/Cappstone-theft/shop/Shoplifting/Shoplifting005_x264.mp4/Shoplifting005_x264_17.mp4', 'C:/yash/Projects/cappstone/Cappstone-theft/shop/Shoplifting/Shoplifting005_x264.mp4/Shoplifting005_x264_18.mp4', 'C:/yash/Projects/cappstone/Cappstone-theft/shop/Shoplifting/Shoplifting005_x264.mp4/Shoplifting005_x264_19.mp4', 'C:/yash/Projects/cappstone/Cappstone-theft/shop/Shoplifting/Shoplifting005_x264.mp4/Shoplifting005_x264_20.mp4', 'C:/yash/Projects/cappstone/Cappstone-theft/shop/Shoplifting/Shoplifting005_x264.mp4/Shoplifting005_x264_21.mp4', 'C:/yash/Projects/cappstone/Cappstone-theft/shop/Shoplifting/Shoplifting005_x264.mp4/Shoplifting005_x264_22.mp4', 'C:/yash/Projects/cappstone/Cappstone-theft/shop/Shoplifting/Shoplifting005_x264.mp4/Shoplifting005_x264_23.mp4', 'C:/yash/Projects/cappstone/Cappstone-theft/shop/Shoplifting/Shoplifting005_x264.mp4/Shoplifting005_x264_24.mp4', 'C:/yash/Projects/cappstone/Cappstone-theft/shop/Shoplifting/Shoplifting005_x264.mp4/Shoplifting005_x264_25.mp4', 'C:/yash/Projects/cappstone/Cappstone-theft/shop/Shoplifting/Shoplifting005_x264.mp4/Shoplifting005_x264_26.mp4', 'C:/yash/Projects/cappstone/Cappstone-theft/shop/Shoplifting/Shoplifting005_x264.mp4/Shoplifting005_x264_27.mp4', 'C:/yash/Projects/cappstone/Cappstone-theft/shop/Shoplifting/Shoplifting005_x264.mp4/Shoplifting005_x264_28.mp4', 'C:/yash/Projects/cappstone/Cappstone-theft/shop/Shoplifting/Shoplifting005_x264.mp4/Shoplifting005_x264_29.mp4', 'C:/yash/Projects/cappstone/Cappstone-theft/shop/Shoplifting/Shoplifting005_x264.mp4/Shoplifting005_x264_30.mp4', 'C:/yash/Projects/cappstone/Cappstone-theft/shop/Shoplifting/Shoplifting005_x264.mp4/Shoplifting005_x264_31.mp4', 'C:/yash/Projects/cappstone/Cappstone-theft/shop/Shoplifting/Shoplifting006_x264.mp4/Shoplifting006_x264_0.mp4', 'C:/yash/Projects/cappstone/Cappstone-theft/shop/Shoplifting/Shoplifting006_x264.mp4/Shoplifting006_x264_1.mp4', 'C:/yash/Projects/cappstone/Cappstone-theft/shop/Shoplifting/Shoplifting006_x264.mp4/Shoplifting006_x264_2.mp4', 'C:/yash/Projects/cappstone/Cappstone-theft/shop/Shoplifting/Shoplifting006_x264.mp4/Shoplifting006_x264_3.mp4', 'C:/yash/Projects/cappstone/Cappstone-theft/shop/Shoplifting/Shoplifting006_x264.mp4/Shoplifting006_x264_4.mp4', 'C:/yash/Projects/cappstone/Cappstone-theft/shop/Shoplifting/Shoplifting006_x264.mp4/Shoplifting006_x264_5.mp4', 'C:/yash/Projects/cappstone/Cappstone-theft/shop/Shoplifting/Shoplifting006_x264.mp4/Shoplifting006_x264_6.mp4', 'C:/yash/Projects/cappstone/Cappstone-theft/shop/Shoplifting/Shoplifting006_x264.mp4/Shoplifting006_x264_7.mp4', 'C:/yash/Projects/cappstone/Cappstone-theft/shop/Shoplifting/Shoplifting006_x264.mp4/Shoplifting006_x264_8.mp4', 'C:/yash/Projects/cappstone/Cappstone-theft/shop/Shoplifting/Shoplifting006_x264.mp4/Shoplifting006_x264_9.mp4', 'C:/yash/Projects/cappstone/Cappstone-theft/shop/Shoplifting/Shoplifting006_x264.mp4/Shoplifting006_x264_10.mp4', 'C:/yash/Projects/cappstone/Cappstone-theft/shop/Shoplifting/Shoplifting006_x264.mp4/Shoplifting006_x264_11.mp4', 'C:/yash/Projects/cappstone/Cappstone-theft/shop/Shoplifting/Shoplifting006_x264.mp4/Shoplifting006_x264_12.mp4', 'C:/yash/Projects/cappstone/Cappstone-theft/shop/Shoplifting/Shoplifting006_x264.mp4/Shoplifting006_x264_13.mp4', 'C:/yash/Projects/cappstone/Cappstone-theft/shop/Shoplifting/Shoplifting006_x264.mp4/Shoplifting006_x264_14.mp4', 'C:/yash/Projects/cappstone/Cappstone-theft/shop/Shoplifting/Shoplifting006_x264.mp4/Shoplifting006_x264_15.mp4', 'C:/yash/Projects/cappstone/Cappstone-theft/shop/Shoplifting/Shoplifting006_x264.mp4/Shoplifting006_x264_16.mp4', 'C:/yash/Projects/cappstone/Cappstone-theft/shop/Shoplifting/Shoplifting006_x264.mp4/Shoplifting006_x264_17.mp4', 'C:/yash/Projects/cappstone/Cappstone-theft/shop/Shoplifting/Shoplifting006_x264.mp4/Shoplifting006_x264_18.mp4', 'C:/yash/Projects/cappstone/Cappstone-theft/shop/Shoplifting/Shoplifting006_x264.mp4/Shoplifting006_x264_19.mp4', 'C:/yash/Projects/cappstone/Cappstone-theft/shop/Shoplifting/Shoplifting006_x264.mp4/Shoplifting006_x264_20.mp4', 'C:/yash/Projects/cappstone/Cappstone-theft/shop/Shoplifting/Shoplifting006_x264.mp4/Shoplifting006_x264_21.mp4', 'C:/yash/Projects/cappstone/Cappstone-theft/shop/Shoplifting/Shoplifting006_x264.mp4/Shoplifting006_x264_22.mp4', 'C:/yash/Projects/cappstone/Cappstone-theft/shop/Shoplifting/Shoplifting006_x264.mp4/Shoplifting006_x264_23.mp4', 'C:/yash/Projects/cappstone/Cappstone-theft/shop/Shoplifting/Shoplifting006_x264.mp4/Shoplifting006_x264_24.mp4', 'C:/yash/Projects/cappstone/Cappstone-theft/shop/Shoplifting/Shoplifting006_x264.mp4/Shoplifting006_x264_25.mp4', 'C:/yash/Projects/cappstone/Cappstone-theft/shop/Shoplifting/Shoplifting006_x264.mp4/Shoplifting006_x264_26.mp4', 'C:/yash/Projects/cappstone/Cappstone-theft/shop/Shoplifting/Shoplifting006_x264.mp4/Shoplifting006_x264_27.mp4', 'C:/yash/Projects/cappstone/Cappstone-theft/shop/Shoplifting/Shoplifting006_x264.mp4/Shoplifting006_x264_28.mp4', 'C:/yash/Projects/cappstone/Cappstone-theft/shop/Shoplifting/Shoplifting006_x264.mp4/Shoplifting006_x264_29.mp4', 'C:/yash/Projects/cappstone/Cappstone-theft/shop/Shoplifting/Shoplifting006_x264.mp4/Shoplifting006_x264_30.mp4', 'C:/yash/Projects/cappstone/Cappstone-theft/shop/Shoplifting/Shoplifting006_x264.mp4/Shoplifting006_x264_31.mp4', 'C:/yash/Projects/cappstone/Cappstone-theft/shop/Shoplifting/Shoplifting007_x264.mp4/Shoplifting007_x264_0.mp4', 'C:/yash/Projects/cappstone/Cappstone-theft/shop/Shoplifting/Shoplifting007_x264.mp4/Shoplifting007_x264_1.mp4', 'C:/yash/Projects/cappstone/Cappstone-theft/shop/Shoplifting/Shoplifting007_x264.mp4/Shoplifting007_x264_2.mp4', 'C:/yash/Projects/cappstone/Cappstone-theft/shop/Shoplifting/Shoplifting007_x264.mp4/Shoplifting007_x264_3.mp4', 'C:/yash/Projects/cappstone/Cappstone-theft/shop/Shoplifting/Shoplifting007_x264.mp4/Shoplifting007_x264_4.mp4']\n",
      "[0, 0, 0, 0, 0, 0, 0, 0, 1, 1, 1, 1, 1, 1, 1, 0, 0, 0, 0, 0, 0, 0, 0, 0, 0, 0, 0, 0, 0, 0, 0, 0, 0, 0, 0, 0, 0, 0, 0, 0, 0, 0, 0, 1, 1, 1, 0, 0, 0, 0, 0, 0, 0, 0, 0, 0, 0, 0, 0, 0, 0, 0, 0, 0, 0, 0, 0, 0, 0, 0, 0, 0, 0, 0, 0, 0, 0, 0, 0, 0, 0, 1, 1, 0, 0, 0, 0, 0, 0, 1, 1, 0, 0, 0, 1, 0, 0, 0, 1, 1]\n"
     ]
    }
   ],
   "source": [
    "# Specify the directory where your CSV files are located\n",
    "directory_path = 'C:/yash/Projects/cappstone/Cappstone-theft/New folder/'\n",
    "videos_directory = 'C:/yash/Projects/cappstone/Cappstone-theft/shop'\n",
    "\n",
    "def prepareParentVideoPath(video_name):\n",
    "    video_path = \"\"\n",
    "    done = False\n",
    "    for c in video_name:\n",
    "        if(done and c == '_'):\n",
    "            return video_path\n",
    "        video_path += c\n",
    "        if(c == '_'):\n",
    "            done = True\n",
    "    return \"\"\n",
    "        \n",
    "# Initialize empty lists to store video names and abnormal behaviors\n",
    "video_paths = []\n",
    "labels = []\n",
    "counter = 0\n",
    "# Iterate over each file in the directory\n",
    "for filename in os.listdir(directory_path):\n",
    "    if filename.endswith('.csv'):\n",
    "        file_path = os.path.join(directory_path, filename)\n",
    "        print(file_path)\n",
    "        # Open the CSV file and read its contents\n",
    "        with open(file_path, 'r') as csv_file:\n",
    "            csv_reader = csv.reader(csv_file)\n",
    "\n",
    "            # Skip the header if it exists\n",
    "            next(csv_reader, None)\n",
    "\n",
    "            # Iterate over each row in the CSV file\n",
    "            for row in csv_reader:\n",
    "                # Assuming the first column is the video name and the second column is the abnormal behavior\n",
    "                video_path = videos_directory + '/' + filename[:-4] + '/' + prepareParentVideoPath(row[0]) + '.mp4' + '/' + row[0] + '.mp4' #row[0]\n",
    "                label = int(row[2]) # Convert the value to an integer\n",
    "\n",
    "                # Append the values to the respective lists\n",
    "                video_paths.append(video_path)\n",
    "                labels.append(label)\n",
    "                counter +=1\n",
    "                if (counter == 100):\n",
    "                    break\n",
    "            if (counter == 100):\n",
    "                break\n",
    "        if (counter == 100):\n",
    "            break\n",
    "           \n",
    "\n",
    "print(video_paths)\n",
    "print(labels)\n",
    "#print(abnormal_behaviors)"
   ]
  },
  {
   "cell_type": "code",
   "execution_count": 38,
   "id": "7b7ea3bc-6422-45ac-a95c-1732dffdd257",
   "metadata": {},
   "outputs": [],
   "source": [
    "# Function to extract frames from a video file\n",
    "def extract_frames(video_path, num_frames=30, frame_size=(224, 224)):\n",
    "    cap = cv2.VideoCapture(video_path)\n",
    "    frames = []\n",
    "\n",
    "    while len(frames) < num_frames:\n",
    "        ret, frame = cap.read()\n",
    "        if not ret:\n",
    "            break\n",
    "        frame = cv2.resize(frame, frame_size)\n",
    "        frames.append(frame)\n",
    "\n",
    "    cap.release()\n",
    "    return np.array(frames)\n",
    "\n",
    "# Generator to load and preprocess frames on-the-fly\n",
    "def frame_generator(video_paths, labels, batch_size=32, num_frames=30):\n",
    "    num_videos = len(video_paths)\n",
    "    while True:\n",
    "        for start in range(0, num_videos, batch_size):\n",
    "            frames_batch = []\n",
    "            labels_batch = labels[start:start + batch_size]\n",
    "\n",
    "            for video_path in video_paths[start:start + batch_size]:\n",
    "                frames = extract_frames(video_path, num_frames=num_frames)\n",
    "                frames_batch.append(frames)\n",
    "\n",
    "            frames_batch = np.array(frames_batch)\n",
    "            frames_batch = preprocess_input(frames_batch)\n",
    "\n",
    "            yield frames_batch, np.array(labels_batch)\n",
    "\n",
    "# train_video_paths = video_paths\n",
    "# train_labels = labels\n",
    "# # Split the data into training and validation sets\n",
    "train_video_paths, val_video_paths, train_labels, val_labels = train_test_split(\n",
    "    video_paths, labels, test_size=0.2, random_state=42\n",
    ")"
   ]
  },
  {
   "cell_type": "code",
   "execution_count": null,
   "id": "20a44714-4085-4b0d-a83b-ece097090956",
   "metadata": {},
   "outputs": [],
   "source": []
  },
  {
   "cell_type": "code",
   "execution_count": 34,
   "id": "73c74592-7f07-46a0-8981-87d2e0f28200",
   "metadata": {},
   "outputs": [],
   "source": [
    "# batch_size = 32\n",
    "# train_generator = frame_generator(train_video_paths, train_labels, batch_size=batch_size)\n",
    "# validation_generator = frame_generator(val_video_paths, val_labels, batch_size=batch_size)\n"
   ]
  },
  {
   "cell_type": "code",
   "execution_count": null,
   "id": "33ff7ba0-582e-417a-8891-d386cf59df47",
   "metadata": {},
   "outputs": [],
   "source": []
  },
  {
   "cell_type": "code",
   "execution_count": 35,
   "id": "e48dd8a4-2344-4f49-a977-bd53a79edb26",
   "metadata": {},
   "outputs": [],
   "source": [
    "import tensorflow as tf\n",
    "from tensorflow.keras.models import Sequential\n",
    "from tensorflow.keras.layers import Conv3D, MaxPooling3D, Flatten, Dense\n",
    "from tensorflow.keras.preprocessing.image import ImageDataGenerator\n",
    "num_frames=30\n",
    "height=224\n",
    "width=224\n",
    "channels=3\n",
    "# Set the input shape based on your video frame dimensions\n",
    "input_shape = (num_frames, height, width, channels)\n",
    "\n",
    "# Define the 3D CNN model\n",
    "model = Sequential()\n",
    "\n",
    "model.add(Conv3D(64, kernel_size=(3, 3, 3), activation='relu', input_shape=input_shape))\n",
    "model.add(MaxPooling3D(pool_size=(2, 2, 2)))\n",
    "\n",
    "model.add(Conv3D(128, kernel_size=(3, 3, 3), activation='relu'))\n",
    "model.add(MaxPooling3D(pool_size=(2, 2, 2)))\n",
    "\n",
    "model.add(Conv3D(256, kernel_size=(3, 3, 3), activation='relu'))\n",
    "model.add(MaxPooling3D(pool_size=(2, 2, 2)))\n",
    "\n",
    "model.add(Flatten())\n",
    "\n",
    "model.add(Dense(512, activation='relu'))\n",
    "model.add(Dense(2, activation='softmax'))  # Two output classes: shoplifting_yes and shoplifting_no"
   ]
  },
  {
   "cell_type": "code",
   "execution_count": 36,
   "id": "83ffc80f-d13a-4c21-bf37-d8219431101c",
   "metadata": {},
   "outputs": [
    {
     "ename": "NotADirectoryError",
     "evalue": "[WinError 267] The directory name is invalid: 'C:/yash/Projects/cappstone/Cappstone-theft/shop/Shoplifting/Shoplifting001_x264.mp4/Shoplifting001_x264_1.mp4'",
     "output_type": "error",
     "traceback": [
      "\u001b[1;31m---------------------------------------------------------------------------\u001b[0m",
      "\u001b[1;31mNotADirectoryError\u001b[0m                        Traceback (most recent call last)",
      "\u001b[1;32m~\\AppData\\Local\\Temp/ipykernel_8212/2156486448.py\u001b[0m in \u001b[0;36m<module>\u001b[1;34m\u001b[0m\n\u001b[0;32m     12\u001b[0m \u001b[1;32mfor\u001b[0m \u001b[0mpath\u001b[0m \u001b[1;32min\u001b[0m \u001b[0mtrain_video_paths\u001b[0m\u001b[1;33m:\u001b[0m\u001b[1;33m\u001b[0m\u001b[1;33m\u001b[0m\u001b[0m\n\u001b[0;32m     13\u001b[0m \u001b[1;33m\u001b[0m\u001b[0m\n\u001b[1;32m---> 14\u001b[1;33m     train_generator = datagen.flow_from_directory(\n\u001b[0m\u001b[0;32m     15\u001b[0m         \u001b[0mpath\u001b[0m\u001b[1;33m,\u001b[0m\u001b[1;33m\u001b[0m\u001b[1;33m\u001b[0m\u001b[0m\n\u001b[0;32m     16\u001b[0m         \u001b[0mtarget_size\u001b[0m\u001b[1;33m=\u001b[0m\u001b[1;33m(\u001b[0m\u001b[0mheight\u001b[0m\u001b[1;33m,\u001b[0m \u001b[0mwidth\u001b[0m\u001b[1;33m)\u001b[0m\u001b[1;33m,\u001b[0m\u001b[1;33m\u001b[0m\u001b[1;33m\u001b[0m\u001b[0m\n",
      "\u001b[1;32m~\\anaconda3\\lib\\site-packages\\keras\\src\\legacy\\preprocessing\\image.py\u001b[0m in \u001b[0;36mflow_from_directory\u001b[1;34m(self, directory, target_size, color_mode, classes, class_mode, batch_size, shuffle, seed, save_to_dir, save_prefix, save_format, follow_links, subset, interpolation, keep_aspect_ratio)\u001b[0m\n\u001b[0;32m   1136\u001b[0m         \u001b[0mkeep_aspect_ratio\u001b[0m\u001b[1;33m=\u001b[0m\u001b[1;32mFalse\u001b[0m\u001b[1;33m,\u001b[0m\u001b[1;33m\u001b[0m\u001b[1;33m\u001b[0m\u001b[0m\n\u001b[0;32m   1137\u001b[0m     ):\n\u001b[1;32m-> 1138\u001b[1;33m         return DirectoryIterator(\n\u001b[0m\u001b[0;32m   1139\u001b[0m             \u001b[0mdirectory\u001b[0m\u001b[1;33m,\u001b[0m\u001b[1;33m\u001b[0m\u001b[1;33m\u001b[0m\u001b[0m\n\u001b[0;32m   1140\u001b[0m             \u001b[0mself\u001b[0m\u001b[1;33m,\u001b[0m\u001b[1;33m\u001b[0m\u001b[1;33m\u001b[0m\u001b[0m\n",
      "\u001b[1;32m~\\anaconda3\\lib\\site-packages\\keras\\src\\legacy\\preprocessing\\image.py\u001b[0m in \u001b[0;36m__init__\u001b[1;34m(self, directory, image_data_generator, target_size, color_mode, classes, class_mode, batch_size, shuffle, seed, data_format, save_to_dir, save_prefix, save_format, follow_links, subset, interpolation, keep_aspect_ratio, dtype)\u001b[0m\n\u001b[0;32m    451\u001b[0m         \u001b[1;32mif\u001b[0m \u001b[1;32mnot\u001b[0m \u001b[0mclasses\u001b[0m\u001b[1;33m:\u001b[0m\u001b[1;33m\u001b[0m\u001b[1;33m\u001b[0m\u001b[0m\n\u001b[0;32m    452\u001b[0m             \u001b[0mclasses\u001b[0m \u001b[1;33m=\u001b[0m \u001b[1;33m[\u001b[0m\u001b[1;33m]\u001b[0m\u001b[1;33m\u001b[0m\u001b[1;33m\u001b[0m\u001b[0m\n\u001b[1;32m--> 453\u001b[1;33m             \u001b[1;32mfor\u001b[0m \u001b[0msubdir\u001b[0m \u001b[1;32min\u001b[0m \u001b[0msorted\u001b[0m\u001b[1;33m(\u001b[0m\u001b[0mos\u001b[0m\u001b[1;33m.\u001b[0m\u001b[0mlistdir\u001b[0m\u001b[1;33m(\u001b[0m\u001b[0mdirectory\u001b[0m\u001b[1;33m)\u001b[0m\u001b[1;33m)\u001b[0m\u001b[1;33m:\u001b[0m\u001b[1;33m\u001b[0m\u001b[1;33m\u001b[0m\u001b[0m\n\u001b[0m\u001b[0;32m    454\u001b[0m                 \u001b[1;32mif\u001b[0m \u001b[0mos\u001b[0m\u001b[1;33m.\u001b[0m\u001b[0mpath\u001b[0m\u001b[1;33m.\u001b[0m\u001b[0misdir\u001b[0m\u001b[1;33m(\u001b[0m\u001b[0mos\u001b[0m\u001b[1;33m.\u001b[0m\u001b[0mpath\u001b[0m\u001b[1;33m.\u001b[0m\u001b[0mjoin\u001b[0m\u001b[1;33m(\u001b[0m\u001b[0mdirectory\u001b[0m\u001b[1;33m,\u001b[0m \u001b[0msubdir\u001b[0m\u001b[1;33m)\u001b[0m\u001b[1;33m)\u001b[0m\u001b[1;33m:\u001b[0m\u001b[1;33m\u001b[0m\u001b[1;33m\u001b[0m\u001b[0m\n\u001b[0;32m    455\u001b[0m                     \u001b[0mclasses\u001b[0m\u001b[1;33m.\u001b[0m\u001b[0mappend\u001b[0m\u001b[1;33m(\u001b[0m\u001b[0msubdir\u001b[0m\u001b[1;33m)\u001b[0m\u001b[1;33m\u001b[0m\u001b[1;33m\u001b[0m\u001b[0m\n",
      "\u001b[1;31mNotADirectoryError\u001b[0m: [WinError 267] The directory name is invalid: 'C:/yash/Projects/cappstone/Cappstone-theft/shop/Shoplifting/Shoplifting001_x264.mp4/Shoplifting001_x264_1.mp4'"
     ]
    }
   ],
   "source": [
    "# Compile the model\n",
    "model.compile(optimizer='adam', loss='categorical_crossentropy', metrics=['accuracy'])\n",
    "\n",
    "# Create an ImageDataGenerator for data augmentation and preprocessing\n",
    "datagen = ImageDataGenerator(rescale=1./255, validation_split=0.2)\n",
    "\n",
    "# train_generator = frame_generator(train_video_paths, train_labels, batch_size=batch_size)\n",
    "# validation_generator = frame_generator(val_video_paths, val_labels, batch_size=batch_size)\n",
    "\n",
    "# Load and preprocess the video dataset using the generator\n",
    "train_generators=[]\n",
    "for path in train_video_paths:\n",
    "    \n",
    "    train_generator = datagen.flow_from_directory(\n",
    "        path,\n",
    "        target_size=(height, width),\n",
    "        batch_size=batch_size,\n",
    "        class_mode='categorical',\n",
    "        subset='training'\n",
    "    )\n",
    "    train_generators.append(train_generator)\n",
    "cnt_train_generator = train_generators[0]\n",
    "for i in range(1,len(train_generators)):\n",
    "    cnt_train_generator = cnt_train_generator.concatenate(train_generators[i])"
   ]
  },
  {
   "cell_type": "code",
   "execution_count": 36,
   "id": "d7be0214-9986-49a9-9e98-edec51c7f264",
   "metadata": {},
   "outputs": [
    {
     "ename": "NotADirectoryError",
     "evalue": "[WinError 267] The directory name is invalid: 'C:/yash/Projects/cappstone/Cappstone-theft/shop/Shoplifting/Shoplifting001_x264.mp4/Shoplifting001_x264_1.mp4'",
     "output_type": "error",
     "traceback": [
      "\u001b[1;31m---------------------------------------------------------------------------\u001b[0m",
      "\u001b[1;31mNotADirectoryError\u001b[0m                        Traceback (most recent call last)",
      "\u001b[1;32m~\\AppData\\Local\\Temp/ipykernel_8212/2156486448.py\u001b[0m in \u001b[0;36m<module>\u001b[1;34m\u001b[0m\n\u001b[0;32m     12\u001b[0m \u001b[1;32mfor\u001b[0m \u001b[0mpath\u001b[0m \u001b[1;32min\u001b[0m \u001b[0mtrain_video_paths\u001b[0m\u001b[1;33m:\u001b[0m\u001b[1;33m\u001b[0m\u001b[1;33m\u001b[0m\u001b[0m\n\u001b[0;32m     13\u001b[0m \u001b[1;33m\u001b[0m\u001b[0m\n\u001b[1;32m---> 14\u001b[1;33m     train_generator = datagen.flow_from_directory(\n\u001b[0m\u001b[0;32m     15\u001b[0m         \u001b[0mpath\u001b[0m\u001b[1;33m,\u001b[0m\u001b[1;33m\u001b[0m\u001b[1;33m\u001b[0m\u001b[0m\n\u001b[0;32m     16\u001b[0m         \u001b[0mtarget_size\u001b[0m\u001b[1;33m=\u001b[0m\u001b[1;33m(\u001b[0m\u001b[0mheight\u001b[0m\u001b[1;33m,\u001b[0m \u001b[0mwidth\u001b[0m\u001b[1;33m)\u001b[0m\u001b[1;33m,\u001b[0m\u001b[1;33m\u001b[0m\u001b[1;33m\u001b[0m\u001b[0m\n",
      "\u001b[1;32m~\\anaconda3\\lib\\site-packages\\keras\\src\\legacy\\preprocessing\\image.py\u001b[0m in \u001b[0;36mflow_from_directory\u001b[1;34m(self, directory, target_size, color_mode, classes, class_mode, batch_size, shuffle, seed, save_to_dir, save_prefix, save_format, follow_links, subset, interpolation, keep_aspect_ratio)\u001b[0m\n\u001b[0;32m   1136\u001b[0m         \u001b[0mkeep_aspect_ratio\u001b[0m\u001b[1;33m=\u001b[0m\u001b[1;32mFalse\u001b[0m\u001b[1;33m,\u001b[0m\u001b[1;33m\u001b[0m\u001b[1;33m\u001b[0m\u001b[0m\n\u001b[0;32m   1137\u001b[0m     ):\n\u001b[1;32m-> 1138\u001b[1;33m         return DirectoryIterator(\n\u001b[0m\u001b[0;32m   1139\u001b[0m             \u001b[0mdirectory\u001b[0m\u001b[1;33m,\u001b[0m\u001b[1;33m\u001b[0m\u001b[1;33m\u001b[0m\u001b[0m\n\u001b[0;32m   1140\u001b[0m             \u001b[0mself\u001b[0m\u001b[1;33m,\u001b[0m\u001b[1;33m\u001b[0m\u001b[1;33m\u001b[0m\u001b[0m\n",
      "\u001b[1;32m~\\anaconda3\\lib\\site-packages\\keras\\src\\legacy\\preprocessing\\image.py\u001b[0m in \u001b[0;36m__init__\u001b[1;34m(self, directory, image_data_generator, target_size, color_mode, classes, class_mode, batch_size, shuffle, seed, data_format, save_to_dir, save_prefix, save_format, follow_links, subset, interpolation, keep_aspect_ratio, dtype)\u001b[0m\n\u001b[0;32m    451\u001b[0m         \u001b[1;32mif\u001b[0m \u001b[1;32mnot\u001b[0m \u001b[0mclasses\u001b[0m\u001b[1;33m:\u001b[0m\u001b[1;33m\u001b[0m\u001b[1;33m\u001b[0m\u001b[0m\n\u001b[0;32m    452\u001b[0m             \u001b[0mclasses\u001b[0m \u001b[1;33m=\u001b[0m \u001b[1;33m[\u001b[0m\u001b[1;33m]\u001b[0m\u001b[1;33m\u001b[0m\u001b[1;33m\u001b[0m\u001b[0m\n\u001b[1;32m--> 453\u001b[1;33m             \u001b[1;32mfor\u001b[0m \u001b[0msubdir\u001b[0m \u001b[1;32min\u001b[0m \u001b[0msorted\u001b[0m\u001b[1;33m(\u001b[0m\u001b[0mos\u001b[0m\u001b[1;33m.\u001b[0m\u001b[0mlistdir\u001b[0m\u001b[1;33m(\u001b[0m\u001b[0mdirectory\u001b[0m\u001b[1;33m)\u001b[0m\u001b[1;33m)\u001b[0m\u001b[1;33m:\u001b[0m\u001b[1;33m\u001b[0m\u001b[1;33m\u001b[0m\u001b[0m\n\u001b[0m\u001b[0;32m    454\u001b[0m                 \u001b[1;32mif\u001b[0m \u001b[0mos\u001b[0m\u001b[1;33m.\u001b[0m\u001b[0mpath\u001b[0m\u001b[1;33m.\u001b[0m\u001b[0misdir\u001b[0m\u001b[1;33m(\u001b[0m\u001b[0mos\u001b[0m\u001b[1;33m.\u001b[0m\u001b[0mpath\u001b[0m\u001b[1;33m.\u001b[0m\u001b[0mjoin\u001b[0m\u001b[1;33m(\u001b[0m\u001b[0mdirectory\u001b[0m\u001b[1;33m,\u001b[0m \u001b[0msubdir\u001b[0m\u001b[1;33m)\u001b[0m\u001b[1;33m)\u001b[0m\u001b[1;33m:\u001b[0m\u001b[1;33m\u001b[0m\u001b[1;33m\u001b[0m\u001b[0m\n\u001b[0;32m    455\u001b[0m                     \u001b[0mclasses\u001b[0m\u001b[1;33m.\u001b[0m\u001b[0mappend\u001b[0m\u001b[1;33m(\u001b[0m\u001b[0msubdir\u001b[0m\u001b[1;33m)\u001b[0m\u001b[1;33m\u001b[0m\u001b[1;33m\u001b[0m\u001b[0m\n",
      "\u001b[1;31mNotADirectoryError\u001b[0m: [WinError 267] The directory name is invalid: 'C:/yash/Projects/cappstone/Cappstone-theft/shop/Shoplifting/Shoplifting001_x264.mp4/Shoplifting001_x264_1.mp4'"
     ]
    }
   ],
   "source": [
    "# Compile the model\n",
    "model.compile(optimizer='adam', loss='categorical_crossentropy', metrics=['accuracy'])\n",
    "\n",
    "# Create an ImageDataGenerator for data augmentation and preprocessing\n",
    "datagen = ImageDataGenerator(rescale=1./255, validation_split=0.2)\n",
    "\n",
    "# train_generator = frame_generator(train_video_paths, train_labels, batch_size=batch_size)\n",
    "# validation_generator = frame_generator(val_video_paths, val_labels, batch_size=batch_size)\n",
    "\n",
    "# Load and preprocess the video dataset using the generator\n",
    "train_generators=[]\n",
    "for path in train_video_paths:\n",
    "    \n",
    "    train_generator = datagen.flow_from_directory(\n",
    "        path,\n",
    "        target_size=(height, width),\n",
    "        batch_size=batch_size,\n",
    "        class_mode='categorical',\n",
    "        subset='training'\n",
    "    )\n",
    "    train_generators.append(train_generator)\n",
    "cnt_train_generator = train_generators[0]\n",
    "for i in range(1,len(train_generators)):\n",
    "    cnt_train_generator = cnt_train_generator.concatenate(train_generators[i])"
   ]
  },
  {
   "cell_type": "code",
   "execution_count": null,
   "id": "a5702aee-0e0e-4b62-9281-570f8ea77cf6",
   "metadata": {},
   "outputs": [],
   "source": [
    "validation_generator = datagen.flow_from_directory(\n",
    "    val_video_paths,\n",
    "    target_size=(height, width),\n",
    "    batch_size=batch_size,\n",
    "    class_mode='categorical',\n",
    "    subset='validation'\n",
    ")\n",
    "\n",
    "# Train the model\n",
    "epochs = 10\n",
    "model.fit(\n",
    "    train_generator,\n",
    "    steps_per_epoch=train_generator.samples // batch_size,\n",
    "    epochs=epochs,\n",
    "    validation_data=validation_generator,\n",
    "    validation_steps=validation_generator.samples // batch_size\n",
    ")\n",
    "\n",
    "# Save the trained model\n",
    "model.save('video_classification_model.h5')"
   ]
  },
  {
   "cell_type": "code",
   "execution_count": null,
   "id": "46e08663-73c7-4244-a9af-ed6337e300f3",
   "metadata": {},
   "outputs": [],
   "source": []
  }
 ],
 "metadata": {
  "kernelspec": {
   "display_name": "Python 3 (ipykernel)",
   "language": "python",
   "name": "python3"
  },
  "language_info": {
   "codemirror_mode": {
    "name": "ipython",
    "version": 3
   },
   "file_extension": ".py",
   "mimetype": "text/x-python",
   "name": "python",
   "nbconvert_exporter": "python",
   "pygments_lexer": "ipython3",
   "version": "3.9.7"
  }
 },
 "nbformat": 4,
 "nbformat_minor": 5
}
